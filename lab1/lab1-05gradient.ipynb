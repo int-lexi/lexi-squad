{
 "cells": [
  {
   "cell_type": "markdown",
   "metadata": {},
   "source": [
    "### 5. Gradient descent\n",
    "Gradient descent is a first-order iterative optimization algorithm for finding the minimum of a function. To find a local minimum of a function using gradient descent, one takes steps proportional to the negative of the gradient of the function at the current point. Gradient descent is based on the observation that if function $Q(x)$ is defined and differentiable in a neighborhood of a point $x$, then $Q(x)$ decreases fastest if one goes from $x$  in the direction of the negative gradient.\n",
    "\n",
    "$$x^{k+1} = x^{k} - \\lambda \\cdot \\triangledown Q(x)$$\n",
    "\n",
    "Here $\\lambda$ is step of descent and  $k$ – step number. If $\\lambda$ is too large then algorithm may not converge, otherwise training can last a long time. Also there is rather popular hack to slowly decrease $\\lambda$ with each step. You need to understand that gradient descent finds exactly local minimum. The easiest way to fight this problem is make several runs of algorithm or have good initialization.\n",
    "\n",
    "#### Exercises\n",
    "1. Suggest some quadratic function $Q: \\mathbb{R}^2 \\rightarrow \\mathbb{R}$ with global minimum.\n",
    "2. Find minimum with gradient descent method.\n",
    "3. Plot contour lines.\n",
    "4. Trace the path of gradient descent.\n",
    "5. How do you choose $\\lambda$?\n",
    "6. Evaluate time complexity of solution."
   ]
  },
  {
   "cell_type": "code",
   "execution_count": null,
   "metadata": {},
   "outputs": [],
   "source": [
    "f = (x-1)**2 + 4*y**2"
   ]
  }
 ],
 "metadata": {
  "kernelspec": {
   "display_name": "Python 3",
   "language": "python",
   "name": "python3"
  },
  "language_info": {
   "codemirror_mode": {
    "name": "ipython",
    "version": 3
   },
   "file_extension": ".py",
   "mimetype": "text/x-python",
   "name": "python",
   "nbconvert_exporter": "python",
   "pygments_lexer": "ipython3",
   "version": "3.6.3"
  }
 },
 "nbformat": 4,
 "nbformat_minor": 2
}
